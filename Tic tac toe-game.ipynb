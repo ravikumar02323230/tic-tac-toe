{
 "cells": [
  {
   "cell_type": "code",
   "execution_count": null,
   "metadata": {},
   "outputs": [],
   "source": [
    "#3 by 3 board representation.\n",
    "from IPython.display import clear_output\n",
    "\n",
    "def display_board(board):\n",
    "    clear_output() # works in jupiter for any IDE use print('/n*100')\n",
    "    print(' '+board[7]+' | '+board[8]+' | '+board[9])\n",
    "    print('---|---|---')\n",
    "    print(' '+board[4]+' | '+board[5]+' | '+board[6])\n",
    "    print('---|---|---')\n",
    "    print(' '+board[1]+' | '+board[2]+' | '+board[3])\n",
    "    \n",
    "    pass"
   ]
  },
  {
   "cell_type": "code",
   "execution_count": null,
   "metadata": {},
   "outputs": [],
   "source": [
    "#player input\n",
    "def player_input():\n",
    "    while True:\n",
    "        i=input('Do you want to be X or O, zyadatar londe X hi lete h').upper()\n",
    "        if i=='X':\n",
    "            player1='X'\n",
    "            player2='O'\n",
    "            return player1, player2\n",
    "        elif i=='O':\n",
    "            player1='O'\n",
    "            player2='X'\n",
    "            return player1, player2\n",
    "        else:\n",
    "            continue\n",
    "    \n",
    "    \n",
    "    pass"
   ]
  },
  {
   "cell_type": "code",
   "execution_count": null,
   "metadata": {},
   "outputs": [],
   "source": [
    "#desired position (number 1-9)\n",
    "def place_marker(board, marker, position):\n",
    "    #position = int(position)\n",
    "    board[position] = marker\n",
    "    pass"
   ]
  },
  {
   "cell_type": "code",
   "execution_count": null,
   "metadata": {},
   "outputs": [],
   "source": [
    "#checks to see if that mark has won\n",
    "def win_check(board, mark):\n",
    "    if board[1] == board[2] == board[3] == mark:\n",
    "        return True\n",
    "        #break\n",
    "    elif board[4] == board[5] == board[6] == mark:\n",
    "        return True\n",
    "        #break\n",
    "    elif board[7] == board[8] == board[9] == mark:\n",
    "        return True\n",
    "        #break\n",
    "    elif board[1] == board[4] == board[7] == mark:\n",
    "        return True\n",
    "        #break\n",
    "    elif board[2] == board[5] == board[8] == mark:\n",
    "        return True\n",
    "        #break\n",
    "    elif board[3] == board[6] == board[9] == mark:\n",
    "        return True\n",
    "        #break\n",
    "    elif board[1] == board[5] == board[9] == mark:\n",
    "        return True\n",
    "        #break\n",
    "    elif board[3] == board[5] == board[7] == mark:\n",
    "        return True\n",
    "        #break\n",
    "    else:\n",
    "        return False\n",
    "    pass"
   ]
  },
  {
   "cell_type": "code",
   "execution_count": null,
   "metadata": {},
   "outputs": [],
   "source": [
    "# randomly decide which player goes first\n",
    "import random\n",
    "\n",
    "def choose_first():\n",
    "    r = random.randint(1,2)\n",
    "    if r == 1:\n",
    "        return 'Player 1'\n",
    "    elif r ==2:\n",
    "        return 'Player 2'\n",
    "    pass"
   ]
  },
  {
   "cell_type": "code",
   "execution_count": null,
   "metadata": {},
   "outputs": [],
   "source": [
    "#whether a space on the board is freely available\n",
    "def space_check(board, position):\n",
    "    return board[position] == ' '\n",
    "    pass"
   ]
  },
  {
   "cell_type": "code",
   "execution_count": null,
   "metadata": {},
   "outputs": [],
   "source": [
    "#Checks if the board is full\n",
    "def full_board_check(board):\n",
    "    for i in range(1,10):\n",
    "        if space_check(board, i):\n",
    "            return False\n",
    "    return True\n",
    "    pass"
   ]
  },
  {
   "cell_type": "code",
   "execution_count": 120,
   "metadata": {},
   "outputs": [],
   "source": [
    "#asks for a player's next position \n",
    "def player_choice(board):\n",
    "    '''position = int(input('Enter your next position(1-9):'))\n",
    "    while space_check(board, position):\n",
    "        return position'''\n",
    "    position = 0\n",
    "    \n",
    "    while position not in [1,2,3,4,5,6,7,8,9] or not space_check(board, position):\n",
    "        position = int(input('Choose your next position, teri chance h chal: (1-9) '))\n",
    "        \n",
    "    return position\n",
    "    pass"
   ]
  },
  {
   "cell_type": "code",
   "execution_count": 111,
   "metadata": {},
   "outputs": [],
   "source": [
    "#if the player want to play again\n",
    "def replay():\n",
    "    k= input('Khelega dobara (YES/NO)').upper()\n",
    "    if k == 'YES':\n",
    "        return True\n",
    "    elif k == 'NO':\n",
    "        return False\n",
    "    pass"
   ]
  },
  {
   "cell_type": "code",
   "execution_count": 121,
   "metadata": {},
   "outputs": [
    {
     "name": "stdout",
     "output_type": "stream",
     "text": [
      " X |   |  \n",
      "---|---|---\n",
      " O | X | O\n",
      "---|---|---\n",
      "   | O | X\n",
      "Sheeeeeeeeeeesh! You have won the game!\n",
      "Khelega dobara (YES/NO)7\n"
     ]
    }
   ],
   "source": [
    "print('Welcome to Tic Tac camel-toe aka maut ka nanga-nach!')\n",
    "\n",
    "while True:\n",
    "    # Reset the board\n",
    "    theBoard = [' '] * 10\n",
    "    player1_marker, player2_marker = player_input()\n",
    "    turn = choose_first()\n",
    "    print(turn + ' will go first kyuki bakchod h.')\n",
    "    \n",
    "    play_game = input('Are you ready to play, khelega na pakka? Yes ya No bol jaldi')\n",
    "    \n",
    "    if play_game.lower()[0] == 'y':\n",
    "        game_on = True\n",
    "    else:\n",
    "        game_on = False\n",
    "\n",
    "    while game_on:\n",
    "        if turn == 'Player 1':\n",
    "            # Player1's turn.\n",
    "            \n",
    "            display_board(theBoard)\n",
    "            position = player_choice(theBoard)\n",
    "            place_marker(theBoard, player1_marker, position)\n",
    "\n",
    "            if win_check(theBoard, player1_marker):\n",
    "                display_board(theBoard)\n",
    "                print('Sheeeeeeeeeeesh! You have won the game!')\n",
    "                game_on = False\n",
    "            else:\n",
    "                if full_board_check(theBoard):\n",
    "                    display_board(theBoard)\n",
    "                    print('The game is a draw, lode lg gye dono ke!')\n",
    "                    break\n",
    "                else:\n",
    "                    turn = 'Player 2'\n",
    "\n",
    "        else:\n",
    "            # Player2's turn.\n",
    "            \n",
    "            display_board(theBoard)\n",
    "            position = player_choice(theBoard)\n",
    "            place_marker(theBoard, player2_marker, position)\n",
    "\n",
    "            if win_check(theBoard, player2_marker):\n",
    "                display_board(theBoard)\n",
    "                print('Player 2 has won, as if we care!')\n",
    "                game_on = False\n",
    "            else:\n",
    "                if full_board_check(theBoard):\n",
    "                    display_board(theBoard)\n",
    "                    print('The game is a draw, lode lg gye')\n",
    "                    break\n",
    "                else:\n",
    "                    turn = 'Player 1'\n",
    "\n",
    "    if not replay():\n",
    "        break"
   ]
  }
 ],
 "metadata": {
  "kernelspec": {
   "display_name": "Python 3",
   "language": "python",
   "name": "python3"
  }
 },
 "nbformat": 4,
 "nbformat_minor": 1
}
